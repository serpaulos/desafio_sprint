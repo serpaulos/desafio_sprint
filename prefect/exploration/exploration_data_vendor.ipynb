{
 "cells": [
  {
   "cell_type": "code",
   "execution_count": 5,
   "id": "07bbbe83-2c16-4ad0-9fbb-bf93f8822db1",
   "metadata": {},
   "outputs": [],
   "source": [
    "import pandas as pd"
   ]
  },
  {
   "cell_type": "code",
   "execution_count": 2,
   "id": "8341e098-2c13-4f89-b2ed-e2418a9057e4",
   "metadata": {},
   "outputs": [
    {
     "name": "stdout",
     "output_type": "stream",
     "text": [
      "--2024-01-09 22:42:14--  http://=/\n",
      "Resolving = (=)... failed: Name or service not known.\n",
      "wget: unable to resolve host address ‘=’\n",
      "--2024-01-09 22:42:14--  https://s3.amazonaws.com/data-sprints-eng-test/data-vendor_lookup-csv.csv\n",
      "Resolving s3.amazonaws.com (s3.amazonaws.com)... 52.216.77.126, 52.216.176.109, 52.216.52.224, ...\n",
      "Connecting to s3.amazonaws.com (s3.amazonaws.com)|52.216.77.126|:443... connected.\n",
      "HTTP request sent, awaiting response... 200 OK\n",
      "Length: 517 [text/csv]\n",
      "Saving to: ‘data-vendor_lookup-csv.csv’\n",
      "\n",
      "data-vendor_lookup- 100%[===================>]     517  --.-KB/s    in 0s      \n",
      "\n",
      "2024-01-09 22:42:14 (45,4 MB/s) - ‘data-vendor_lookup-csv.csv’ saved [517/517]\n",
      "\n",
      "FINISHED --2024-01-09 22:42:14--\n",
      "Total wall clock time: 0,5s\n",
      "Downloaded: 1 files, 517 in 0s (45,4 MB/s)\n"
     ]
    }
   ],
   "source": [
    "!wget = \"https://s3.amazonaws.com/data-sprints-eng-test/data-vendor_lookup-csv.csv\""
   ]
  },
  {
   "cell_type": "code",
   "execution_count": 3,
   "id": "8e492fc2-49d6-4cb8-9322-44bbe74c3952",
   "metadata": {},
   "outputs": [],
   "source": [
    "data = 'data-vendor_lookup-csv.csv'"
   ]
  },
  {
   "cell_type": "code",
   "execution_count": 6,
   "id": "9853bbce-8c06-4d27-b32c-a32ae2ac5164",
   "metadata": {},
   "outputs": [],
   "source": [
    "df = pd.read_csv(data)"
   ]
  },
  {
   "cell_type": "code",
   "execution_count": 8,
   "id": "b7ca3ddc-f1cc-49ee-bded-4d8653915ab4",
   "metadata": {},
   "outputs": [
    {
     "data": {
      "text/html": [
       "<div>\n",
       "<style scoped>\n",
       "    .dataframe tbody tr th:only-of-type {\n",
       "        vertical-align: middle;\n",
       "    }\n",
       "\n",
       "    .dataframe tbody tr th {\n",
       "        vertical-align: top;\n",
       "    }\n",
       "\n",
       "    .dataframe thead th {\n",
       "        text-align: right;\n",
       "    }\n",
       "</style>\n",
       "<table border=\"1\" class=\"dataframe\">\n",
       "  <thead>\n",
       "    <tr style=\"text-align: right;\">\n",
       "      <th></th>\n",
       "      <th>vendor_id</th>\n",
       "      <th>name</th>\n",
       "      <th>address</th>\n",
       "      <th>city</th>\n",
       "      <th>state</th>\n",
       "      <th>zip</th>\n",
       "      <th>country</th>\n",
       "      <th>contact</th>\n",
       "      <th>current</th>\n",
       "    </tr>\n",
       "  </thead>\n",
       "  <tbody>\n",
       "    <tr>\n",
       "      <th>0</th>\n",
       "      <td>CMT</td>\n",
       "      <td>Creative Mobile Technologies, LLC</td>\n",
       "      <td>950 4th Road Suite 78</td>\n",
       "      <td>Brooklyn</td>\n",
       "      <td>NY</td>\n",
       "      <td>11210</td>\n",
       "      <td>USA</td>\n",
       "      <td>contactCMT@gmail.com</td>\n",
       "      <td>Yes</td>\n",
       "    </tr>\n",
       "    <tr>\n",
       "      <th>1</th>\n",
       "      <td>VTS</td>\n",
       "      <td>VeriFone Inc</td>\n",
       "      <td>26 Summit St.</td>\n",
       "      <td>Flushing</td>\n",
       "      <td>NY</td>\n",
       "      <td>11354</td>\n",
       "      <td>USA</td>\n",
       "      <td>admin@vtstaxi.com</td>\n",
       "      <td>Yes</td>\n",
       "    </tr>\n",
       "    <tr>\n",
       "      <th>2</th>\n",
       "      <td>DDS</td>\n",
       "      <td>Dependable Driver Service, Inc</td>\n",
       "      <td>8554 North Homestead St.</td>\n",
       "      <td>Bronx</td>\n",
       "      <td>NY</td>\n",
       "      <td>10472</td>\n",
       "      <td>USA</td>\n",
       "      <td>9778896500</td>\n",
       "      <td>Yes</td>\n",
       "    </tr>\n",
       "    <tr>\n",
       "      <th>3</th>\n",
       "      <td>TS</td>\n",
       "      <td>Total Solutions Co</td>\n",
       "      <td>Five Boroughs Taxi Co.</td>\n",
       "      <td>Brooklyn</td>\n",
       "      <td>NY</td>\n",
       "      <td>11229</td>\n",
       "      <td>USA</td>\n",
       "      <td>mgmt@5btc.com</td>\n",
       "      <td>Yes</td>\n",
       "    </tr>\n",
       "    <tr>\n",
       "      <th>4</th>\n",
       "      <td>MT</td>\n",
       "      <td>Mega Taxi</td>\n",
       "      <td>4 East Jennings St.</td>\n",
       "      <td>Brooklyn</td>\n",
       "      <td>NY</td>\n",
       "      <td>11228</td>\n",
       "      <td>USA</td>\n",
       "      <td>contact@megataxico.com</td>\n",
       "      <td>No</td>\n",
       "    </tr>\n",
       "  </tbody>\n",
       "</table>\n",
       "</div>"
      ],
      "text/plain": [
       "  vendor_id                               name                   address  \\\n",
       "0       CMT  Creative Mobile Technologies, LLC     950 4th Road Suite 78   \n",
       "1       VTS                       VeriFone Inc             26 Summit St.   \n",
       "2       DDS     Dependable Driver Service, Inc  8554 North Homestead St.   \n",
       "3        TS                 Total Solutions Co    Five Boroughs Taxi Co.   \n",
       "4        MT                          Mega Taxi       4 East Jennings St.   \n",
       "\n",
       "       city state    zip country                 contact current  \n",
       "0  Brooklyn    NY  11210     USA    contactCMT@gmail.com     Yes  \n",
       "1  Flushing    NY  11354     USA       admin@vtstaxi.com     Yes  \n",
       "2     Bronx    NY  10472     USA              9778896500     Yes  \n",
       "3  Brooklyn    NY  11229     USA           mgmt@5btc.com     Yes  \n",
       "4  Brooklyn    NY  11228     USA  contact@megataxico.com      No  "
      ]
     },
     "execution_count": 8,
     "metadata": {},
     "output_type": "execute_result"
    }
   ],
   "source": [
    "df.head()"
   ]
  },
  {
   "cell_type": "code",
   "execution_count": 18,
   "id": "bccf8f4a-c2f0-49a7-9f34-daa394c4c71c",
   "metadata": {},
   "outputs": [
    {
     "data": {
      "text/plain": [
       "5"
      ]
     },
     "execution_count": 18,
     "metadata": {},
     "output_type": "execute_result"
    }
   ],
   "source": [
    "len(df)"
   ]
  },
  {
   "cell_type": "code",
   "execution_count": 9,
   "id": "36a4ede1-d767-4fea-b2cf-1517cb47d9ac",
   "metadata": {},
   "outputs": [
    {
     "data": {
      "text/plain": [
       "vendor_id    object\n",
       "name         object\n",
       "address      object\n",
       "city         object\n",
       "state        object\n",
       "zip           int64\n",
       "country      object\n",
       "contact      object\n",
       "current      object\n",
       "dtype: object"
      ]
     },
     "execution_count": 9,
     "metadata": {},
     "output_type": "execute_result"
    }
   ],
   "source": [
    "df.dtypes"
   ]
  },
  {
   "cell_type": "code",
   "execution_count": 10,
   "id": "9d832379-c9b1-4f10-928d-7a21d8338156",
   "metadata": {},
   "outputs": [],
   "source": [
    "from sqlalchemy import create_engine"
   ]
  },
  {
   "cell_type": "code",
   "execution_count": 11,
   "id": "6057fb6e-19d2-4ef7-9487-49e1980b0978",
   "metadata": {},
   "outputs": [],
   "source": [
    "import pymysql"
   ]
  },
  {
   "cell_type": "code",
   "execution_count": 12,
   "id": "bc5b29b4-afdc-45da-914d-9b191105a57f",
   "metadata": {},
   "outputs": [],
   "source": [
    "user = \"sprint\"\n",
    "password = \"sprint\"\n",
    "host = \"localhost\"\n",
    "port = \"3306\"\n",
    "db = \"sprint_ny_taxi\""
   ]
  },
  {
   "cell_type": "code",
   "execution_count": 13,
   "id": "8bf8bd10-78b1-443c-9ddc-3d928143f2cc",
   "metadata": {},
   "outputs": [],
   "source": [
    "engine = create_engine(f\"mysql+pymysql://{user}:{password}@{host}:{port}/{db}\")"
   ]
  },
  {
   "cell_type": "code",
   "execution_count": 14,
   "id": "ff9688b0-86d4-4a10-8e3d-17d6812bb1ff",
   "metadata": {},
   "outputs": [
    {
     "data": {
      "text/plain": [
       "<sqlalchemy.engine.base.Connection at 0x7f646f7efb80>"
      ]
     },
     "execution_count": 14,
     "metadata": {},
     "output_type": "execute_result"
    }
   ],
   "source": [
    "engine.connect()"
   ]
  },
  {
   "cell_type": "code",
   "execution_count": 15,
   "id": "27b70991-e94f-4e78-a43c-da50c2e39c85",
   "metadata": {},
   "outputs": [
    {
     "name": "stdout",
     "output_type": "stream",
     "text": [
      "\n",
      "CREATE TABLE `nyctaxi-vendor` (\n",
      "\tvendor_id TEXT, \n",
      "\tname TEXT, \n",
      "\taddress TEXT, \n",
      "\tcity TEXT, \n",
      "\tstate TEXT, \n",
      "\tzip BIGINT, \n",
      "\tcountry TEXT, \n",
      "\tcontact TEXT, \n",
      "\tcurrent TEXT\n",
      ")\n",
      "\n",
      "\n"
     ]
    }
   ],
   "source": [
    "print(pd.io.sql.get_schema(df, name='nyctaxi-vendor', con=engine))"
   ]
  },
  {
   "cell_type": "code",
   "execution_count": 20,
   "id": "edcfa327-80f7-4cec-996a-70fdb8400aff",
   "metadata": {},
   "outputs": [
    {
     "data": {
      "text/plain": [
       "0"
      ]
     },
     "execution_count": 20,
     "metadata": {},
     "output_type": "execute_result"
    }
   ],
   "source": [
    "df.head(n=0).to_sql(name='nyctaxi-vendor', con=engine, if_exists='replace')"
   ]
  },
  {
   "cell_type": "code",
   "execution_count": 21,
   "id": "c8e0480e-afdd-4442-9d0e-f56235af5dae",
   "metadata": {},
   "outputs": [
    {
     "name": "stdout",
     "output_type": "stream",
     "text": [
      "CPU times: user 5.48 ms, sys: 0 ns, total: 5.48 ms\n",
      "Wall time: 7.52 ms\n"
     ]
    },
    {
     "data": {
      "text/plain": [
       "5"
      ]
     },
     "execution_count": 21,
     "metadata": {},
     "output_type": "execute_result"
    }
   ],
   "source": [
    "%time df.to_sql(name='nyctaxi-vendor', con=engine, if_exists='append')"
   ]
  },
  {
   "cell_type": "code",
   "execution_count": 22,
   "id": "efbeab5b-cca1-4e19-9e6d-9e07234d1570",
   "metadata": {},
   "outputs": [
    {
     "name": "stdout",
     "output_type": "stream",
     "text": [
      "--2024-01-09 22:48:31--  http://=/\n",
      "Resolving = (=)... failed: Name or service not known.\n",
      "wget: unable to resolve host address ‘=’\n",
      "--2024-01-09 22:48:31--  https://s3.amazonaws.com/data-sprints-eng-test/data-payment_lookup-csv.csv\n",
      "Resolving s3.amazonaws.com (s3.amazonaws.com)... 52.217.96.126, 52.217.122.8, 52.217.229.232, ...\n",
      "Connecting to s3.amazonaws.com (s3.amazonaws.com)|52.217.96.126|:443... connected.\n",
      "HTTP request sent, awaiting response... 200 OK\n",
      "Length: 31865 (31K) [text/csv]\n",
      "Saving to: ‘data-payment_lookup-csv.csv’\n",
      "\n",
      "data-payment_lookup 100%[===================>]  31,12K  --.-KB/s    in 0,1s    \n",
      "\n",
      "2024-01-09 22:48:32 (258 KB/s) - ‘data-payment_lookup-csv.csv’ saved [31865/31865]\n",
      "\n",
      "FINISHED --2024-01-09 22:48:32--\n",
      "Total wall clock time: 0,7s\n",
      "Downloaded: 1 files, 31K in 0,1s (258 KB/s)\n"
     ]
    }
   ],
   "source": [
    "!wget = \"https://s3.amazonaws.com/data-sprints-eng-test/data-payment_lookup-csv.csv\""
   ]
  },
  {
   "cell_type": "code",
   "execution_count": 23,
   "id": "aed245f6-01dd-4caa-bc87-c135f5522bb3",
   "metadata": {},
   "outputs": [],
   "source": [
    "data1 = 'data-payment_lookup-csv.csv'"
   ]
  },
  {
   "cell_type": "code",
   "execution_count": 24,
   "id": "78582e08-1a04-4dce-93e4-3d9d91001a01",
   "metadata": {},
   "outputs": [],
   "source": [
    "df1 = pd.read_csv(data1)"
   ]
  },
  {
   "cell_type": "code",
   "execution_count": 25,
   "id": "411237fb-6edd-4b63-a5f2-914be0fc2ccf",
   "metadata": {},
   "outputs": [
    {
     "data": {
      "text/html": [
       "<div>\n",
       "<style scoped>\n",
       "    .dataframe tbody tr th:only-of-type {\n",
       "        vertical-align: middle;\n",
       "    }\n",
       "\n",
       "    .dataframe tbody tr th {\n",
       "        vertical-align: top;\n",
       "    }\n",
       "\n",
       "    .dataframe thead th {\n",
       "        text-align: right;\n",
       "    }\n",
       "</style>\n",
       "<table border=\"1\" class=\"dataframe\">\n",
       "  <thead>\n",
       "    <tr style=\"text-align: right;\">\n",
       "      <th></th>\n",
       "      <th>A</th>\n",
       "      <th>B</th>\n",
       "    </tr>\n",
       "  </thead>\n",
       "  <tbody>\n",
       "    <tr>\n",
       "      <th>0</th>\n",
       "      <td>payment_type</td>\n",
       "      <td>payment_lookup</td>\n",
       "    </tr>\n",
       "    <tr>\n",
       "      <th>1</th>\n",
       "      <td>Cas</td>\n",
       "      <td>Cash</td>\n",
       "    </tr>\n",
       "    <tr>\n",
       "      <th>2</th>\n",
       "      <td>CAS</td>\n",
       "      <td>Cash</td>\n",
       "    </tr>\n",
       "    <tr>\n",
       "      <th>3</th>\n",
       "      <td>Cre</td>\n",
       "      <td>Credit</td>\n",
       "    </tr>\n",
       "    <tr>\n",
       "      <th>4</th>\n",
       "      <td>CRE</td>\n",
       "      <td>Credit</td>\n",
       "    </tr>\n",
       "    <tr>\n",
       "      <th>...</th>\n",
       "      <td>...</td>\n",
       "      <td>...</td>\n",
       "    </tr>\n",
       "    <tr>\n",
       "      <th>3284</th>\n",
       "      <td>3267</td>\n",
       "      <td>Foo</td>\n",
       "    </tr>\n",
       "    <tr>\n",
       "      <th>3285</th>\n",
       "      <td>3268</td>\n",
       "      <td>Foo</td>\n",
       "    </tr>\n",
       "    <tr>\n",
       "      <th>3286</th>\n",
       "      <td>3269</td>\n",
       "      <td>Foo</td>\n",
       "    </tr>\n",
       "    <tr>\n",
       "      <th>3287</th>\n",
       "      <td>3270</td>\n",
       "      <td>Foo</td>\n",
       "    </tr>\n",
       "    <tr>\n",
       "      <th>3288</th>\n",
       "      <td>3271</td>\n",
       "      <td>Foo</td>\n",
       "    </tr>\n",
       "  </tbody>\n",
       "</table>\n",
       "<p>3289 rows × 2 columns</p>\n",
       "</div>"
      ],
      "text/plain": [
       "                 A               B\n",
       "0     payment_type  payment_lookup\n",
       "1              Cas            Cash\n",
       "2              CAS            Cash\n",
       "3              Cre          Credit\n",
       "4              CRE          Credit\n",
       "...            ...             ...\n",
       "3284          3267             Foo\n",
       "3285          3268             Foo\n",
       "3286          3269             Foo\n",
       "3287          3270             Foo\n",
       "3288          3271             Foo\n",
       "\n",
       "[3289 rows x 2 columns]"
      ]
     },
     "metadata": {},
     "output_type": "display_data"
    }
   ],
   "source": [
    "display(df1)"
   ]
  },
  {
   "cell_type": "code",
   "execution_count": 26,
   "id": "a08ffdea-4af7-48de-8081-8a1cb605ea58",
   "metadata": {},
   "outputs": [
    {
     "data": {
      "text/plain": [
       "3289"
      ]
     },
     "execution_count": 26,
     "metadata": {},
     "output_type": "execute_result"
    }
   ],
   "source": [
    "len(df1)"
   ]
  },
  {
   "cell_type": "code",
   "execution_count": 27,
   "id": "ba1a005d-bc3b-4021-9e6e-2ded5353bd5b",
   "metadata": {},
   "outputs": [
    {
     "data": {
      "text/plain": [
       "A    object\n",
       "B    object\n",
       "dtype: object"
      ]
     },
     "execution_count": 27,
     "metadata": {},
     "output_type": "execute_result"
    }
   ],
   "source": [
    "df1.dtypes"
   ]
  },
  {
   "cell_type": "code",
   "execution_count": 28,
   "id": "1bcfe1c8-0b50-48fc-af86-f16608a3393b",
   "metadata": {},
   "outputs": [
    {
     "data": {
      "text/plain": [
       "<bound method DataFrame.info of                  A               B\n",
       "0     payment_type  payment_lookup\n",
       "1              Cas            Cash\n",
       "2              CAS            Cash\n",
       "3              Cre          Credit\n",
       "4              CRE          Credit\n",
       "...            ...             ...\n",
       "3284          3267             Foo\n",
       "3285          3268             Foo\n",
       "3286          3269             Foo\n",
       "3287          3270             Foo\n",
       "3288          3271             Foo\n",
       "\n",
       "[3289 rows x 2 columns]>"
      ]
     },
     "execution_count": 28,
     "metadata": {},
     "output_type": "execute_result"
    }
   ],
   "source": [
    "df1.info"
   ]
  },
  {
   "cell_type": "code",
   "execution_count": 33,
   "id": "3b015e79-0548-471a-9989-befe4feaa102",
   "metadata": {},
   "outputs": [
    {
     "data": {
      "text/html": [
       "<div>\n",
       "<style scoped>\n",
       "    .dataframe tbody tr th:only-of-type {\n",
       "        vertical-align: middle;\n",
       "    }\n",
       "\n",
       "    .dataframe tbody tr th {\n",
       "        vertical-align: top;\n",
       "    }\n",
       "\n",
       "    .dataframe thead th {\n",
       "        text-align: right;\n",
       "    }\n",
       "</style>\n",
       "<table border=\"1\" class=\"dataframe\">\n",
       "  <thead>\n",
       "    <tr style=\"text-align: right;\">\n",
       "      <th></th>\n",
       "      <th>A</th>\n",
       "      <th>B</th>\n",
       "    </tr>\n",
       "  </thead>\n",
       "  <tbody>\n",
       "    <tr>\n",
       "      <th>0</th>\n",
       "      <td>payment_type</td>\n",
       "      <td>payment_lookup</td>\n",
       "    </tr>\n",
       "    <tr>\n",
       "      <th>1</th>\n",
       "      <td>Cas</td>\n",
       "      <td>Cash</td>\n",
       "    </tr>\n",
       "    <tr>\n",
       "      <th>2</th>\n",
       "      <td>CAS</td>\n",
       "      <td>Cash</td>\n",
       "    </tr>\n",
       "    <tr>\n",
       "      <th>3</th>\n",
       "      <td>Cre</td>\n",
       "      <td>Credit</td>\n",
       "    </tr>\n",
       "    <tr>\n",
       "      <th>4</th>\n",
       "      <td>CRE</td>\n",
       "      <td>Credit</td>\n",
       "    </tr>\n",
       "    <tr>\n",
       "      <th>5</th>\n",
       "      <td>No</td>\n",
       "      <td>No Charge</td>\n",
       "    </tr>\n",
       "    <tr>\n",
       "      <th>6</th>\n",
       "      <td>Dis</td>\n",
       "      <td>Dispute</td>\n",
       "    </tr>\n",
       "    <tr>\n",
       "      <th>7</th>\n",
       "      <td>Cash</td>\n",
       "      <td>Cash</td>\n",
       "    </tr>\n",
       "    <tr>\n",
       "      <th>8</th>\n",
       "      <td>CASH</td>\n",
       "      <td>Cash</td>\n",
       "    </tr>\n",
       "    <tr>\n",
       "      <th>9</th>\n",
       "      <td>Credit</td>\n",
       "      <td>Credit</td>\n",
       "    </tr>\n",
       "    <tr>\n",
       "      <th>10</th>\n",
       "      <td>CREDIT</td>\n",
       "      <td>Credit</td>\n",
       "    </tr>\n",
       "    <tr>\n",
       "      <th>11</th>\n",
       "      <td>No Charge</td>\n",
       "      <td>No Charge</td>\n",
       "    </tr>\n",
       "    <tr>\n",
       "      <th>12</th>\n",
       "      <td>Dispute</td>\n",
       "      <td>Dispute</td>\n",
       "    </tr>\n",
       "    <tr>\n",
       "      <th>13</th>\n",
       "      <td>CRD</td>\n",
       "      <td>Credit</td>\n",
       "    </tr>\n",
       "    <tr>\n",
       "      <th>14</th>\n",
       "      <td>CSH</td>\n",
       "      <td>Cash</td>\n",
       "    </tr>\n",
       "    <tr>\n",
       "      <th>15</th>\n",
       "      <td>NOC</td>\n",
       "      <td>No Charge</td>\n",
       "    </tr>\n",
       "    <tr>\n",
       "      <th>16</th>\n",
       "      <td>DIS</td>\n",
       "      <td>Dispute</td>\n",
       "    </tr>\n",
       "    <tr>\n",
       "      <th>17</th>\n",
       "      <td>UNK</td>\n",
       "      <td>Unknown</td>\n",
       "    </tr>\n",
       "    <tr>\n",
       "      <th>18</th>\n",
       "      <td>1</td>\n",
       "      <td>Foo</td>\n",
       "    </tr>\n",
       "    <tr>\n",
       "      <th>19</th>\n",
       "      <td>2</td>\n",
       "      <td>Foo</td>\n",
       "    </tr>\n",
       "  </tbody>\n",
       "</table>\n",
       "</div>"
      ],
      "text/plain": [
       "               A               B\n",
       "0   payment_type  payment_lookup\n",
       "1            Cas            Cash\n",
       "2            CAS            Cash\n",
       "3            Cre          Credit\n",
       "4            CRE          Credit\n",
       "5            No        No Charge\n",
       "6            Dis         Dispute\n",
       "7           Cash            Cash\n",
       "8           CASH            Cash\n",
       "9         Credit          Credit\n",
       "10        CREDIT          Credit\n",
       "11     No Charge       No Charge\n",
       "12       Dispute         Dispute\n",
       "13           CRD          Credit\n",
       "14           CSH            Cash\n",
       "15           NOC       No Charge\n",
       "16           DIS         Dispute\n",
       "17           UNK         Unknown\n",
       "18             1             Foo\n",
       "19             2             Foo"
      ]
     },
     "execution_count": 33,
     "metadata": {},
     "output_type": "execute_result"
    }
   ],
   "source": [
    "df1.head(20)"
   ]
  },
  {
   "cell_type": "code",
   "execution_count": 44,
   "id": "44dde3c6-6c2c-444c-8dca-669c33c91a2c",
   "metadata": {},
   "outputs": [],
   "source": [
    "df1 = df1[1:18]"
   ]
  },
  {
   "cell_type": "code",
   "execution_count": 45,
   "id": "eec161b0-18f4-41fb-ba18-c7cb37195a3c",
   "metadata": {},
   "outputs": [
    {
     "name": "stderr",
     "output_type": "stream",
     "text": [
      "/tmp/ipykernel_64646/3304296812.py:1: SettingWithCopyWarning: \n",
      "A value is trying to be set on a copy of a slice from a DataFrame.\n",
      "Try using .loc[row_indexer,col_indexer] = value instead\n",
      "\n",
      "See the caveats in the documentation: https://pandas.pydata.org/pandas-docs/stable/user_guide/indexing.html#returning-a-view-versus-a-copy\n",
      "  df1['A'] = df1['A'].astype(str).str.lower()\n",
      "/tmp/ipykernel_64646/3304296812.py:2: SettingWithCopyWarning: \n",
      "A value is trying to be set on a copy of a slice from a DataFrame.\n",
      "Try using .loc[row_indexer,col_indexer] = value instead\n",
      "\n",
      "See the caveats in the documentation: https://pandas.pydata.org/pandas-docs/stable/user_guide/indexing.html#returning-a-view-versus-a-copy\n",
      "  df1['B'] = df1['B'].astype(str).str.lower()\n"
     ]
    }
   ],
   "source": [
    "df1['A'] = df1['A'].astype(str).str.lower()\n",
    "df1['B'] = df1['B'].astype(str).str.lower()"
   ]
  },
  {
   "cell_type": "code",
   "execution_count": 47,
   "id": "3b0b3f34-d5f2-45fe-9462-14241d6f3620",
   "metadata": {},
   "outputs": [
    {
     "data": {
      "text/html": [
       "<div>\n",
       "<style scoped>\n",
       "    .dataframe tbody tr th:only-of-type {\n",
       "        vertical-align: middle;\n",
       "    }\n",
       "\n",
       "    .dataframe tbody tr th {\n",
       "        vertical-align: top;\n",
       "    }\n",
       "\n",
       "    .dataframe thead th {\n",
       "        text-align: right;\n",
       "    }\n",
       "</style>\n",
       "<table border=\"1\" class=\"dataframe\">\n",
       "  <thead>\n",
       "    <tr style=\"text-align: right;\">\n",
       "      <th></th>\n",
       "      <th>A</th>\n",
       "      <th>B</th>\n",
       "    </tr>\n",
       "  </thead>\n",
       "  <tbody>\n",
       "    <tr>\n",
       "      <th>1</th>\n",
       "      <td>cas</td>\n",
       "      <td>cash</td>\n",
       "    </tr>\n",
       "    <tr>\n",
       "      <th>2</th>\n",
       "      <td>cas</td>\n",
       "      <td>cash</td>\n",
       "    </tr>\n",
       "    <tr>\n",
       "      <th>3</th>\n",
       "      <td>cre</td>\n",
       "      <td>credit</td>\n",
       "    </tr>\n",
       "    <tr>\n",
       "      <th>4</th>\n",
       "      <td>cre</td>\n",
       "      <td>credit</td>\n",
       "    </tr>\n",
       "    <tr>\n",
       "      <th>5</th>\n",
       "      <td>no</td>\n",
       "      <td>no charge</td>\n",
       "    </tr>\n",
       "    <tr>\n",
       "      <th>6</th>\n",
       "      <td>dis</td>\n",
       "      <td>dispute</td>\n",
       "    </tr>\n",
       "    <tr>\n",
       "      <th>7</th>\n",
       "      <td>cash</td>\n",
       "      <td>cash</td>\n",
       "    </tr>\n",
       "    <tr>\n",
       "      <th>8</th>\n",
       "      <td>cash</td>\n",
       "      <td>cash</td>\n",
       "    </tr>\n",
       "    <tr>\n",
       "      <th>9</th>\n",
       "      <td>credit</td>\n",
       "      <td>credit</td>\n",
       "    </tr>\n",
       "    <tr>\n",
       "      <th>10</th>\n",
       "      <td>credit</td>\n",
       "      <td>credit</td>\n",
       "    </tr>\n",
       "    <tr>\n",
       "      <th>11</th>\n",
       "      <td>no charge</td>\n",
       "      <td>no charge</td>\n",
       "    </tr>\n",
       "    <tr>\n",
       "      <th>12</th>\n",
       "      <td>dispute</td>\n",
       "      <td>dispute</td>\n",
       "    </tr>\n",
       "    <tr>\n",
       "      <th>13</th>\n",
       "      <td>crd</td>\n",
       "      <td>credit</td>\n",
       "    </tr>\n",
       "    <tr>\n",
       "      <th>14</th>\n",
       "      <td>csh</td>\n",
       "      <td>cash</td>\n",
       "    </tr>\n",
       "    <tr>\n",
       "      <th>15</th>\n",
       "      <td>noc</td>\n",
       "      <td>no charge</td>\n",
       "    </tr>\n",
       "    <tr>\n",
       "      <th>16</th>\n",
       "      <td>dis</td>\n",
       "      <td>dispute</td>\n",
       "    </tr>\n",
       "    <tr>\n",
       "      <th>17</th>\n",
       "      <td>unk</td>\n",
       "      <td>unknown</td>\n",
       "    </tr>\n",
       "  </tbody>\n",
       "</table>\n",
       "</div>"
      ],
      "text/plain": [
       "            A          B\n",
       "1         cas       cash\n",
       "2         cas       cash\n",
       "3         cre     credit\n",
       "4         cre     credit\n",
       "5         no   no charge\n",
       "6         dis    dispute\n",
       "7        cash       cash\n",
       "8        cash       cash\n",
       "9      credit     credit\n",
       "10     credit     credit\n",
       "11  no charge  no charge\n",
       "12    dispute    dispute\n",
       "13        crd     credit\n",
       "14        csh       cash\n",
       "15        noc  no charge\n",
       "16        dis    dispute\n",
       "17        unk    unknown"
      ]
     },
     "metadata": {},
     "output_type": "display_data"
    }
   ],
   "source": [
    "display(df1)"
   ]
  },
  {
   "cell_type": "code",
   "execution_count": 51,
   "id": "42a0ffbd-9a17-4f18-9e4a-3a55927f8352",
   "metadata": {},
   "outputs": [
    {
     "name": "stderr",
     "output_type": "stream",
     "text": [
      "/tmp/ipykernel_64646/3388187564.py:2: SettingWithCopyWarning: \n",
      "A value is trying to be set on a copy of a slice from a DataFrame\n",
      "\n",
      "See the caveats in the documentation: https://pandas.pydata.org/pandas-docs/stable/user_guide/indexing.html#returning-a-view-versus-a-copy\n",
      "  df1.rename(columns = {'A':'payment_type', 'B':'payment_lookup'}, inplace=True)\n"
     ]
    }
   ],
   "source": [
    "#payment_type \tpayment_lookup\n",
    "df1.rename(columns = {'A':'payment_type', 'B':'payment_lookup'}, inplace=True)"
   ]
  },
  {
   "cell_type": "code",
   "execution_count": 64,
   "id": "6ea3ead0-66e6-4582-809c-bad22c8cccd6",
   "metadata": {},
   "outputs": [
    {
     "data": {
      "text/html": [
       "<div>\n",
       "<style scoped>\n",
       "    .dataframe tbody tr th:only-of-type {\n",
       "        vertical-align: middle;\n",
       "    }\n",
       "\n",
       "    .dataframe tbody tr th {\n",
       "        vertical-align: top;\n",
       "    }\n",
       "\n",
       "    .dataframe thead th {\n",
       "        text-align: right;\n",
       "    }\n",
       "</style>\n",
       "<table border=\"1\" class=\"dataframe\">\n",
       "  <thead>\n",
       "    <tr style=\"text-align: right;\">\n",
       "      <th></th>\n",
       "      <th>payment_type</th>\n",
       "      <th>payment_lookup</th>\n",
       "    </tr>\n",
       "  </thead>\n",
       "  <tbody>\n",
       "    <tr>\n",
       "      <th>1</th>\n",
       "      <td>cas</td>\n",
       "      <td>cash</td>\n",
       "    </tr>\n",
       "    <tr>\n",
       "      <th>3</th>\n",
       "      <td>cre</td>\n",
       "      <td>credit</td>\n",
       "    </tr>\n",
       "    <tr>\n",
       "      <th>5</th>\n",
       "      <td>no</td>\n",
       "      <td>no charge</td>\n",
       "    </tr>\n",
       "    <tr>\n",
       "      <th>6</th>\n",
       "      <td>dis</td>\n",
       "      <td>dispute</td>\n",
       "    </tr>\n",
       "    <tr>\n",
       "      <th>7</th>\n",
       "      <td>cash</td>\n",
       "      <td>cash</td>\n",
       "    </tr>\n",
       "    <tr>\n",
       "      <th>9</th>\n",
       "      <td>credit</td>\n",
       "      <td>credit</td>\n",
       "    </tr>\n",
       "    <tr>\n",
       "      <th>11</th>\n",
       "      <td>no charge</td>\n",
       "      <td>no charge</td>\n",
       "    </tr>\n",
       "    <tr>\n",
       "      <th>12</th>\n",
       "      <td>dispute</td>\n",
       "      <td>dispute</td>\n",
       "    </tr>\n",
       "    <tr>\n",
       "      <th>13</th>\n",
       "      <td>crd</td>\n",
       "      <td>credit</td>\n",
       "    </tr>\n",
       "    <tr>\n",
       "      <th>14</th>\n",
       "      <td>csh</td>\n",
       "      <td>cash</td>\n",
       "    </tr>\n",
       "    <tr>\n",
       "      <th>15</th>\n",
       "      <td>noc</td>\n",
       "      <td>no charge</td>\n",
       "    </tr>\n",
       "    <tr>\n",
       "      <th>17</th>\n",
       "      <td>unk</td>\n",
       "      <td>unknown</td>\n",
       "    </tr>\n",
       "  </tbody>\n",
       "</table>\n",
       "</div>"
      ],
      "text/plain": [
       "   payment_type payment_lookup\n",
       "1           cas           cash\n",
       "3           cre         credit\n",
       "5           no       no charge\n",
       "6           dis        dispute\n",
       "7          cash           cash\n",
       "9        credit         credit\n",
       "11    no charge      no charge\n",
       "12      dispute        dispute\n",
       "13          crd         credit\n",
       "14          csh           cash\n",
       "15          noc      no charge\n",
       "17          unk        unknown"
      ]
     },
     "metadata": {},
     "output_type": "display_data"
    }
   ],
   "source": [
    "display(df1)"
   ]
  },
  {
   "cell_type": "code",
   "execution_count": 65,
   "id": "1c002584-11d4-4e3d-b037-930da00327ea",
   "metadata": {},
   "outputs": [
    {
     "name": "stdout",
     "output_type": "stream",
     "text": [
      "   payment_type payment_lookup\n",
      "1           cas           cash\n",
      "3           cre         credit\n",
      "5           no       no charge\n",
      "6           dis        dispute\n",
      "7          cash           cash\n",
      "9        credit         credit\n",
      "11    no charge      no charge\n",
      "12      dispute        dispute\n",
      "13          crd         credit\n",
      "14          csh           cash\n",
      "15          noc      no charge\n",
      "17          unk        unknown\n"
     ]
    }
   ],
   "source": [
    "df1 = df1.drop_duplicates(subset=['payment_type'], keep='first')\n",
    "print(df1)"
   ]
  },
  {
   "cell_type": "code",
   "execution_count": 68,
   "id": "a50010e5-9658-43d8-a777-8472a6573405",
   "metadata": {},
   "outputs": [],
   "source": [
    "df1 = df1.drop(labels=[5, 7, 9, 11, 12, 13, 14], axis=0)"
   ]
  },
  {
   "cell_type": "code",
   "execution_count": 72,
   "id": "565f1b1a-b1a2-4b50-aa09-c4dea519bf25",
   "metadata": {},
   "outputs": [],
   "source": [
    "df1 = df1.reset_index()"
   ]
  },
  {
   "cell_type": "code",
   "execution_count": 73,
   "id": "03c0038c-7aaa-418c-aa1e-5b89674f51cf",
   "metadata": {},
   "outputs": [
    {
     "data": {
      "text/html": [
       "<div>\n",
       "<style scoped>\n",
       "    .dataframe tbody tr th:only-of-type {\n",
       "        vertical-align: middle;\n",
       "    }\n",
       "\n",
       "    .dataframe tbody tr th {\n",
       "        vertical-align: top;\n",
       "    }\n",
       "\n",
       "    .dataframe thead th {\n",
       "        text-align: right;\n",
       "    }\n",
       "</style>\n",
       "<table border=\"1\" class=\"dataframe\">\n",
       "  <thead>\n",
       "    <tr style=\"text-align: right;\">\n",
       "      <th></th>\n",
       "      <th>index</th>\n",
       "      <th>payment_type</th>\n",
       "      <th>payment_lookup</th>\n",
       "    </tr>\n",
       "  </thead>\n",
       "  <tbody>\n",
       "    <tr>\n",
       "      <th>0</th>\n",
       "      <td>1</td>\n",
       "      <td>cas</td>\n",
       "      <td>cash</td>\n",
       "    </tr>\n",
       "    <tr>\n",
       "      <th>1</th>\n",
       "      <td>3</td>\n",
       "      <td>cre</td>\n",
       "      <td>credit</td>\n",
       "    </tr>\n",
       "    <tr>\n",
       "      <th>2</th>\n",
       "      <td>6</td>\n",
       "      <td>dis</td>\n",
       "      <td>dispute</td>\n",
       "    </tr>\n",
       "    <tr>\n",
       "      <th>3</th>\n",
       "      <td>15</td>\n",
       "      <td>noc</td>\n",
       "      <td>no charge</td>\n",
       "    </tr>\n",
       "    <tr>\n",
       "      <th>4</th>\n",
       "      <td>17</td>\n",
       "      <td>unk</td>\n",
       "      <td>unknown</td>\n",
       "    </tr>\n",
       "  </tbody>\n",
       "</table>\n",
       "</div>"
      ],
      "text/plain": [
       "   index payment_type payment_lookup\n",
       "0      1          cas           cash\n",
       "1      3          cre         credit\n",
       "2      6          dis        dispute\n",
       "3     15          noc      no charge\n",
       "4     17          unk        unknown"
      ]
     },
     "metadata": {},
     "output_type": "display_data"
    }
   ],
   "source": [
    "display(df1)"
   ]
  },
  {
   "cell_type": "code",
   "execution_count": null,
   "id": "df708264-c4d8-4392-8359-9bc71ce6dd82",
   "metadata": {},
   "outputs": [],
   "source": []
  }
 ],
 "metadata": {
  "kernelspec": {
   "display_name": "Python 3 (ipykernel)",
   "language": "python",
   "name": "python3"
  },
  "language_info": {
   "codemirror_mode": {
    "name": "ipython",
    "version": 3
   },
   "file_extension": ".py",
   "mimetype": "text/x-python",
   "name": "python",
   "nbconvert_exporter": "python",
   "pygments_lexer": "ipython3",
   "version": "3.10.13"
  }
 },
 "nbformat": 4,
 "nbformat_minor": 5
}
