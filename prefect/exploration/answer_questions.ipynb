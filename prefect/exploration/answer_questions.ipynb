{
 "cells": [
  {
   "cell_type": "code",
   "execution_count": null,
   "id": "7ca7217f-8363-4984-b0ba-160cf9466024",
   "metadata": {},
   "outputs": [],
   "source": [
    "import os\n",
    "import pandas as pd\n",
    "import pymysql\n",
    "from sqlalchemy import create_engine\n",
    "import pandas as pd\n",
    "import plotly.express as px\n",
    "from dotenv import load_dotenv # add this line"
   ]
  },
  {
   "cell_type": "code",
   "execution_count": null,
   "id": "21a6720d-40fa-48f1-aa93-683290945a9d",
   "metadata": {},
   "outputs": [],
   "source": [
    "load_dotenv() # add this line\n",
    "user = os.getenv('MYSQL_USER')\n",
    "password = os.getenv('MYSQL_PASSWORD')\n",
    "host = os.getenv('MYSQL_HOST')\n",
    "db = os.getenv('MYSQL_DATABASE')\n",
    "port = os.getenv('MYSQL_PORT')"
   ]
  },
  {
   "cell_type": "code",
   "execution_count": null,
   "id": "f5c580a0-d422-4c98-abc8-e27bdba09218",
   "metadata": {},
   "outputs": [],
   "source": [
    "try:\n",
    "    conn = pymysql.connect(host = host,\n",
    "                           port = int(port),\n",
    "                           user = user,\n",
    "                           password = password,\n",
    "                           db = db)\n",
    "except e:\n",
    "    print (e)\n",
    "if conn:\n",
    "    print (\"connection successful\")\n",
    "else:\n",
    "        print (\"error\")"
   ]
  },
  {
   "cell_type": "code",
   "execution_count": null,
   "id": "5d438fb4-00dd-46d1-a5fe-12533641737b",
   "metadata": {},
   "outputs": [],
   "source": [
    "# test connection and access some data\n",
    "df = pd.read_sql_query(\"select * from sprint_ny_taxi_db.nyctaxi_trips limit 100\", conn)\n",
    "df"
   ]
  },
  {
   "cell_type": "markdown",
   "id": "b773b773-c0f5-4f10-abfc-0bbc8ee5ad3f",
   "metadata": {},
   "source": [
    "## Quesitos simples"
   ]
  },
  {
   "cell_type": "code",
   "execution_count": null,
   "id": "3a6ed0c5-fe08-4654-a15d-a5dac4490aca",
   "metadata": {},
   "outputs": [],
   "source": [
    "# Qual a distância média percorrida por viagens com no máximo 2 passageiros;\n",
    "df = pd.read_sql_query(\"select ROUND(AVG(trip_distance), 2) as média_distancia from sprint_ny_taxi_db.nyctaxi_trips\", conn)\n",
    "df"
   ]
  },
  {
   "cell_type": "code",
   "execution_count": null,
   "id": "82d2d085-8504-40ff-9209-9a1f6b455338",
   "metadata": {},
   "outputs": [],
   "source": [
    "# Quais os 3 maiores ​vendors​ em quantidade total de dinheiro arrecadado;\n",
    "df = pd.read_sql_query(\"SELECT vendor_id, ROUND(SUM(total_amount), 2) as total_amount from sprint_ny_taxi_db.nyctaxi_trips GROUP BY vendor_id ORDER BY total_amount DESC LIMIT 3\", conn)\n",
    "df"
   ]
  },
  {
   "cell_type": "code",
   "execution_count": null,
   "id": "1e0b8d55-cb68-4794-a413-ec26db4f693f",
   "metadata": {},
   "outputs": [],
   "source": [
    "# Faça um histograma da distribuição mensal, nos 4 anos, de corridas pagas em dinheiro;\n",
    "df = pd.read_sql_query(\"SELECT MONTH(pickup_datetime) AS mes, SUM(total_amount) AS total_vendas, vendor_id FROM nyctaxi_trips WHERE YEAR(pickup_datetime) BETWEEN 2009 AND 2012 GROUP BY MONTH(pickup_datetime), vendor_id ORDER BY mes;\", conn)\n",
    "px.histogram(df, x=\"mes\", y=\"total_vendas\",  color=\"vendor_id\", title=\"Soma de venda em dinheiro dos 4 anos exibido por mês \", nbins=50)"
   ]
  },
  {
   "cell_type": "code",
   "execution_count": null,
   "id": "47b459bf-fe18-4222-a49d-0b2ce04df4c3",
   "metadata": {},
   "outputs": [],
   "source": [
    "# Faça um gráfico de série temporal contando a quantidade de gorjetas de cada dia, nos últimos 3 meses de 2012.\n",
    "df = pd.read_sql_query(\"SELECT Day(pickup_datetime) AS dia, MONTH(pickup_datetime) AS mes, round(sum(tip_amount),2) AS total_gorjetas FROM nyctaxi_trips WHERE YEAR(pickup_datetime) = 2012 AND MONTH(pickup_datetime) BETWEEN 10 AND 12 GROUP BY YEAR(pickup_datetime), dia, mes ORDER BY dia;\", conn)\n",
    "px.histogram(df, x=\"dia\", y=\"total_gorjetas\", color=\"mes\", title=\"Quantidade de gorjetas de cada dia, nos últimos 3 meses de 2012\", nbins=100)"
   ]
  },
  {
   "cell_type": "markdown",
   "id": "053a9f3f-dab5-45a4-9e08-92b8db1f5493",
   "metadata": {},
   "source": [
    "## Quesitos bônus"
   ]
  },
  {
   "cell_type": "code",
   "execution_count": null,
   "id": "669d03b5-fd5f-4d77-8192-329634469b88",
   "metadata": {},
   "outputs": [],
   "source": [
    "# Qual o tempo médio das corridas nos dias de sábado e domingo;\n"
   ]
  },
  {
   "cell_type": "code",
   "execution_count": null,
   "id": "9bd2e0b3-3bbb-4ee6-b4fc-510f0af5f27e",
   "metadata": {},
   "outputs": [],
   "source": [
    "# Fazer uma visualização em mapa com latitude e longitude de ​pickups and ​dropoffs ​no ano de 2010;"
   ]
  }
 ],
 "metadata": {
  "kernelspec": {
   "display_name": "Python 3 (ipykernel)",
   "language": "python",
   "name": "python3"
  },
  "language_info": {
   "codemirror_mode": {
    "name": "ipython",
    "version": 3
   },
   "file_extension": ".py",
   "mimetype": "text/x-python",
   "name": "python",
   "nbconvert_exporter": "python",
   "pygments_lexer": "ipython3",
   "version": "3.10.13"
  }
 },
 "nbformat": 4,
 "nbformat_minor": 5
}
