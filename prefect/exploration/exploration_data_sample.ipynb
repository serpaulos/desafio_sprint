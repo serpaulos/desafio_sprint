{
 "cells": [
  {
   "cell_type": "code",
   "execution_count": 1,
   "id": "07bbbe83-2c16-4ad0-9fbb-bf93f8822db1",
   "metadata": {},
   "outputs": [],
   "source": [
    "import pandas as pd"
   ]
  },
  {
   "cell_type": "code",
   "execution_count": 2,
   "id": "8e492fc2-49d6-4cb8-9322-44bbe74c3952",
   "metadata": {},
   "outputs": [],
   "source": [
    "data = '../data/data-sample_data-nyctaxi-trips-2009-json_corrigido.json'"
   ]
  },
  {
   "cell_type": "code",
   "execution_count": 3,
   "id": "9853bbce-8c06-4d27-b32c-a32ae2ac5164",
   "metadata": {},
   "outputs": [],
   "source": [
    "df = pd.read_json(data, lines=True)"
   ]
  },
  {
   "cell_type": "code",
   "execution_count": 4,
   "id": "b41d85c2-266c-4f42-b6ec-dafc35ed9c72",
   "metadata": {},
   "outputs": [],
   "source": [
    "df.to_csv('../data/data-sample_data-nyctaxi-trips-2009.csv', index=False)"
   ]
  },
  {
   "cell_type": "code",
   "execution_count": 5,
   "id": "f462ae7c-0fa4-4b8b-a9f0-cfb406b116c3",
   "metadata": {},
   "outputs": [],
   "source": [
    "df_csv = pd.read_csv('../data/data-sample_data-nyctaxi-trips-2009.csv')"
   ]
  },
  {
   "cell_type": "code",
   "execution_count": 6,
   "id": "b7ca3ddc-f1cc-49ee-bded-4d8653915ab4",
   "metadata": {},
   "outputs": [
    {
     "data": {
      "text/html": [
       "<div>\n",
       "<style scoped>\n",
       "    .dataframe tbody tr th:only-of-type {\n",
       "        vertical-align: middle;\n",
       "    }\n",
       "\n",
       "    .dataframe tbody tr th {\n",
       "        vertical-align: top;\n",
       "    }\n",
       "\n",
       "    .dataframe thead th {\n",
       "        text-align: right;\n",
       "    }\n",
       "</style>\n",
       "<table border=\"1\" class=\"dataframe\">\n",
       "  <thead>\n",
       "    <tr style=\"text-align: right;\">\n",
       "      <th></th>\n",
       "      <th>vendor_id</th>\n",
       "      <th>pickup_datetime</th>\n",
       "      <th>dropoff_datetime</th>\n",
       "      <th>passenger_count</th>\n",
       "      <th>trip_distance</th>\n",
       "      <th>pickup_longitude</th>\n",
       "      <th>pickup_latitude</th>\n",
       "      <th>rate_code</th>\n",
       "      <th>store_and_fwd_flag</th>\n",
       "      <th>dropoff_longitude</th>\n",
       "      <th>dropoff_latitude</th>\n",
       "      <th>payment_type</th>\n",
       "      <th>fare_amount</th>\n",
       "      <th>surcharge</th>\n",
       "      <th>tip_amount</th>\n",
       "      <th>tolls_amount</th>\n",
       "      <th>total_amount</th>\n",
       "    </tr>\n",
       "  </thead>\n",
       "  <tbody>\n",
       "    <tr>\n",
       "      <th>0</th>\n",
       "      <td>CMT</td>\n",
       "      <td>2009-04-21T18:51:11.767205+00:00</td>\n",
       "      <td>2009-04-21T18:57:09.433767+00:00</td>\n",
       "      <td>2</td>\n",
       "      <td>0.80</td>\n",
       "      <td>-74.004114</td>\n",
       "      <td>40.742950</td>\n",
       "      <td>NaN</td>\n",
       "      <td>NaN</td>\n",
       "      <td>-73.994712</td>\n",
       "      <td>40.747950</td>\n",
       "      <td>Cash</td>\n",
       "      <td>5.4</td>\n",
       "      <td>0.0</td>\n",
       "      <td>0.0</td>\n",
       "      <td>0.0</td>\n",
       "      <td>5.4</td>\n",
       "    </tr>\n",
       "    <tr>\n",
       "      <th>1</th>\n",
       "      <td>CMT</td>\n",
       "      <td>2009-01-13T07:40:07.639754+00:00</td>\n",
       "      <td>2009-01-13T07:50:36.386011+00:00</td>\n",
       "      <td>1</td>\n",
       "      <td>5.40</td>\n",
       "      <td>-73.996506</td>\n",
       "      <td>40.747784</td>\n",
       "      <td>NaN</td>\n",
       "      <td>NaN</td>\n",
       "      <td>-73.940449</td>\n",
       "      <td>40.792385</td>\n",
       "      <td>Cash</td>\n",
       "      <td>15.4</td>\n",
       "      <td>0.0</td>\n",
       "      <td>0.0</td>\n",
       "      <td>0.0</td>\n",
       "      <td>15.4</td>\n",
       "    </tr>\n",
       "    <tr>\n",
       "      <th>2</th>\n",
       "      <td>VTS</td>\n",
       "      <td>2009-01-06T19:30:44.142187+00:00</td>\n",
       "      <td>2009-01-06T19:43:09.908429+00:00</td>\n",
       "      <td>5</td>\n",
       "      <td>1.67</td>\n",
       "      <td>-73.951340</td>\n",
       "      <td>40.752070</td>\n",
       "      <td>NaN</td>\n",
       "      <td>NaN</td>\n",
       "      <td>-73.944535</td>\n",
       "      <td>40.768108</td>\n",
       "      <td>CASH</td>\n",
       "      <td>6.1</td>\n",
       "      <td>1.0</td>\n",
       "      <td>0.0</td>\n",
       "      <td>0.0</td>\n",
       "      <td>7.1</td>\n",
       "    </tr>\n",
       "    <tr>\n",
       "      <th>3</th>\n",
       "      <td>VTS</td>\n",
       "      <td>2009-09-24T08:28:09.004451+00:00</td>\n",
       "      <td>2009-09-24T08:41:56.739991+00:00</td>\n",
       "      <td>1</td>\n",
       "      <td>4.13</td>\n",
       "      <td>-74.001117</td>\n",
       "      <td>40.729128</td>\n",
       "      <td>NaN</td>\n",
       "      <td>NaN</td>\n",
       "      <td>-73.958122</td>\n",
       "      <td>40.721812</td>\n",
       "      <td>CASH</td>\n",
       "      <td>12.9</td>\n",
       "      <td>0.5</td>\n",
       "      <td>0.0</td>\n",
       "      <td>0.0</td>\n",
       "      <td>13.4</td>\n",
       "    </tr>\n",
       "    <tr>\n",
       "      <th>4</th>\n",
       "      <td>VTS</td>\n",
       "      <td>2009-10-29T05:50:39.214629+00:00</td>\n",
       "      <td>2009-10-29T05:57:22.880174+00:00</td>\n",
       "      <td>1</td>\n",
       "      <td>2.03</td>\n",
       "      <td>-73.976600</td>\n",
       "      <td>40.756873</td>\n",
       "      <td>NaN</td>\n",
       "      <td>NaN</td>\n",
       "      <td>-73.979757</td>\n",
       "      <td>40.776075</td>\n",
       "      <td>CASH</td>\n",
       "      <td>7.7</td>\n",
       "      <td>0.5</td>\n",
       "      <td>0.0</td>\n",
       "      <td>0.0</td>\n",
       "      <td>8.2</td>\n",
       "    </tr>\n",
       "  </tbody>\n",
       "</table>\n",
       "</div>"
      ],
      "text/plain": [
       "  vendor_id                   pickup_datetime  \\\n",
       "0       CMT  2009-04-21T18:51:11.767205+00:00   \n",
       "1       CMT  2009-01-13T07:40:07.639754+00:00   \n",
       "2       VTS  2009-01-06T19:30:44.142187+00:00   \n",
       "3       VTS  2009-09-24T08:28:09.004451+00:00   \n",
       "4       VTS  2009-10-29T05:50:39.214629+00:00   \n",
       "\n",
       "                   dropoff_datetime  passenger_count  trip_distance  \\\n",
       "0  2009-04-21T18:57:09.433767+00:00                2           0.80   \n",
       "1  2009-01-13T07:50:36.386011+00:00                1           5.40   \n",
       "2  2009-01-06T19:43:09.908429+00:00                5           1.67   \n",
       "3  2009-09-24T08:41:56.739991+00:00                1           4.13   \n",
       "4  2009-10-29T05:57:22.880174+00:00                1           2.03   \n",
       "\n",
       "   pickup_longitude  pickup_latitude  rate_code  store_and_fwd_flag  \\\n",
       "0        -74.004114        40.742950        NaN                 NaN   \n",
       "1        -73.996506        40.747784        NaN                 NaN   \n",
       "2        -73.951340        40.752070        NaN                 NaN   \n",
       "3        -74.001117        40.729128        NaN                 NaN   \n",
       "4        -73.976600        40.756873        NaN                 NaN   \n",
       "\n",
       "   dropoff_longitude  dropoff_latitude payment_type  fare_amount  surcharge  \\\n",
       "0         -73.994712         40.747950         Cash          5.4        0.0   \n",
       "1         -73.940449         40.792385         Cash         15.4        0.0   \n",
       "2         -73.944535         40.768108         CASH          6.1        1.0   \n",
       "3         -73.958122         40.721812         CASH         12.9        0.5   \n",
       "4         -73.979757         40.776075         CASH          7.7        0.5   \n",
       "\n",
       "   tip_amount  tolls_amount  total_amount  \n",
       "0         0.0           0.0           5.4  \n",
       "1         0.0           0.0          15.4  \n",
       "2         0.0           0.0           7.1  \n",
       "3         0.0           0.0          13.4  \n",
       "4         0.0           0.0           8.2  "
      ]
     },
     "execution_count": 6,
     "metadata": {},
     "output_type": "execute_result"
    }
   ],
   "source": [
    "df_csv.head()"
   ]
  },
  {
   "cell_type": "code",
   "execution_count": 7,
   "id": "36a4ede1-d767-4fea-b2cf-1517cb47d9ac",
   "metadata": {},
   "outputs": [
    {
     "data": {
      "text/plain": [
       "vendor_id              object\n",
       "pickup_datetime        object\n",
       "dropoff_datetime       object\n",
       "passenger_count         int64\n",
       "trip_distance         float64\n",
       "pickup_longitude      float64\n",
       "pickup_latitude       float64\n",
       "rate_code             float64\n",
       "store_and_fwd_flag    float64\n",
       "dropoff_longitude     float64\n",
       "dropoff_latitude      float64\n",
       "payment_type           object\n",
       "fare_amount           float64\n",
       "surcharge             float64\n",
       "tip_amount            float64\n",
       "tolls_amount          float64\n",
       "total_amount          float64\n",
       "dtype: object"
      ]
     },
     "execution_count": 7,
     "metadata": {},
     "output_type": "execute_result"
    }
   ],
   "source": [
    "df_csv.dtypes"
   ]
  },
  {
   "cell_type": "code",
   "execution_count": 10,
   "id": "8f457cb2-e202-4729-9fa8-1d3bcbf8244b",
   "metadata": {},
   "outputs": [
    {
     "data": {
      "text/plain": [
       "vendor_id                          object\n",
       "pickup_datetime       datetime64[ns, UTC]\n",
       "dropoff_datetime      datetime64[ns, UTC]\n",
       "passenger_count                     int64\n",
       "trip_distance                     float64\n",
       "pickup_longitude                  float64\n",
       "pickup_latitude                   float64\n",
       "rate_code                         float64\n",
       "store_and_fwd_flag                float64\n",
       "dropoff_longitude                 float64\n",
       "dropoff_latitude                  float64\n",
       "payment_type                       object\n",
       "fare_amount                       float64\n",
       "surcharge                         float64\n",
       "tip_amount                        float64\n",
       "tolls_amount                      float64\n",
       "total_amount                      float64\n",
       "dtype: object"
      ]
     },
     "execution_count": 10,
     "metadata": {},
     "output_type": "execute_result"
    }
   ],
   "source": [
    "df_csv['pickup_datetime'] = pd.to_datetime(df_csv['pickup_datetime'], format='mixed')\n",
    "df_csv['dropoff_datetime'] = pd.to_datetime(df_csv['dropoff_datetime'], format='mixed')\n",
    "df_csv.dtypes"
   ]
  },
  {
   "cell_type": "code",
   "execution_count": 11,
   "id": "b2bf30a2-47cf-4667-b3b1-5af3ec9d33b6",
   "metadata": {},
   "outputs": [
    {
     "data": {
      "text/html": [
       "<div>\n",
       "<style scoped>\n",
       "    .dataframe tbody tr th:only-of-type {\n",
       "        vertical-align: middle;\n",
       "    }\n",
       "\n",
       "    .dataframe tbody tr th {\n",
       "        vertical-align: top;\n",
       "    }\n",
       "\n",
       "    .dataframe thead th {\n",
       "        text-align: right;\n",
       "    }\n",
       "</style>\n",
       "<table border=\"1\" class=\"dataframe\">\n",
       "  <thead>\n",
       "    <tr style=\"text-align: right;\">\n",
       "      <th></th>\n",
       "      <th>vendor_id</th>\n",
       "      <th>pickup_datetime</th>\n",
       "      <th>dropoff_datetime</th>\n",
       "      <th>passenger_count</th>\n",
       "      <th>trip_distance</th>\n",
       "      <th>pickup_longitude</th>\n",
       "      <th>pickup_latitude</th>\n",
       "      <th>rate_code</th>\n",
       "      <th>store_and_fwd_flag</th>\n",
       "      <th>dropoff_longitude</th>\n",
       "      <th>dropoff_latitude</th>\n",
       "      <th>payment_type</th>\n",
       "      <th>fare_amount</th>\n",
       "      <th>surcharge</th>\n",
       "      <th>tip_amount</th>\n",
       "      <th>tolls_amount</th>\n",
       "      <th>total_amount</th>\n",
       "    </tr>\n",
       "  </thead>\n",
       "  <tbody>\n",
       "    <tr>\n",
       "      <th>0</th>\n",
       "      <td>CMT</td>\n",
       "      <td>2009-04-21T18:51:11.767205+00:00</td>\n",
       "      <td>2009-04-21T18:57:09.433767+00:00</td>\n",
       "      <td>2</td>\n",
       "      <td>0.8</td>\n",
       "      <td>-74.004114</td>\n",
       "      <td>40.742950</td>\n",
       "      <td>NaN</td>\n",
       "      <td>NaN</td>\n",
       "      <td>-73.994712</td>\n",
       "      <td>40.747950</td>\n",
       "      <td>Cash</td>\n",
       "      <td>5.4</td>\n",
       "      <td>0.0</td>\n",
       "      <td>0.0</td>\n",
       "      <td>0.0</td>\n",
       "      <td>5.4</td>\n",
       "    </tr>\n",
       "    <tr>\n",
       "      <th>1</th>\n",
       "      <td>CMT</td>\n",
       "      <td>2009-01-13T07:40:07.639754+00:00</td>\n",
       "      <td>2009-01-13T07:50:36.386011+00:00</td>\n",
       "      <td>1</td>\n",
       "      <td>5.4</td>\n",
       "      <td>-73.996506</td>\n",
       "      <td>40.747784</td>\n",
       "      <td>NaN</td>\n",
       "      <td>NaN</td>\n",
       "      <td>-73.940449</td>\n",
       "      <td>40.792385</td>\n",
       "      <td>Cash</td>\n",
       "      <td>15.4</td>\n",
       "      <td>0.0</td>\n",
       "      <td>0.0</td>\n",
       "      <td>0.0</td>\n",
       "      <td>15.4</td>\n",
       "    </tr>\n",
       "  </tbody>\n",
       "</table>\n",
       "</div>"
      ],
      "text/plain": [
       "  vendor_id                   pickup_datetime  \\\n",
       "0       CMT  2009-04-21T18:51:11.767205+00:00   \n",
       "1       CMT  2009-01-13T07:40:07.639754+00:00   \n",
       "\n",
       "                   dropoff_datetime  passenger_count  trip_distance  \\\n",
       "0  2009-04-21T18:57:09.433767+00:00                2            0.8   \n",
       "1  2009-01-13T07:50:36.386011+00:00                1            5.4   \n",
       "\n",
       "   pickup_longitude  pickup_latitude  rate_code  store_and_fwd_flag  \\\n",
       "0        -74.004114        40.742950        NaN                 NaN   \n",
       "1        -73.996506        40.747784        NaN                 NaN   \n",
       "\n",
       "   dropoff_longitude  dropoff_latitude payment_type  fare_amount  surcharge  \\\n",
       "0         -73.994712         40.747950         Cash          5.4        0.0   \n",
       "1         -73.940449         40.792385         Cash         15.4        0.0   \n",
       "\n",
       "   tip_amount  tolls_amount  total_amount  \n",
       "0         0.0           0.0           5.4  \n",
       "1         0.0           0.0          15.4  "
      ]
     },
     "execution_count": 11,
     "metadata": {},
     "output_type": "execute_result"
    }
   ],
   "source": [
    "df.head(2)"
   ]
  },
  {
   "cell_type": "code",
   "execution_count": 12,
   "id": "6bab78e7-11df-4a25-8e19-b0173c866fc0",
   "metadata": {},
   "outputs": [],
   "source": [
    "df_csv.to_parquet(\"../data/data-sample_data-nyctaxi-trips-2009-json_corrigido.parquet\", compression='gzip')"
   ]
  },
  {
   "cell_type": "code",
   "execution_count": 13,
   "id": "9d832379-c9b1-4f10-928d-7a21d8338156",
   "metadata": {},
   "outputs": [],
   "source": [
    "from sqlalchemy import create_engine"
   ]
  },
  {
   "cell_type": "code",
   "execution_count": 14,
   "id": "6057fb6e-19d2-4ef7-9487-49e1980b0978",
   "metadata": {},
   "outputs": [],
   "source": [
    "import pymysql"
   ]
  },
  {
   "cell_type": "code",
   "execution_count": 15,
   "id": "bc5b29b4-afdc-45da-914d-9b191105a57f",
   "metadata": {},
   "outputs": [],
   "source": [
    "user = \"sprint\"\n",
    "password = \"sprint\"\n",
    "host = \"localhost\"\n",
    "port = \"3306\"\n",
    "db = \"sprint_ny_taxi\""
   ]
  },
  {
   "cell_type": "code",
   "execution_count": 16,
   "id": "8bf8bd10-78b1-443c-9ddc-3d928143f2cc",
   "metadata": {},
   "outputs": [],
   "source": [
    "engine = create_engine(f\"mysql+pymysql://{user}:{password}@{host}:{port}/{db}\")"
   ]
  },
  {
   "cell_type": "code",
   "execution_count": 17,
   "id": "ff9688b0-86d4-4a10-8e3d-17d6812bb1ff",
   "metadata": {},
   "outputs": [
    {
     "data": {
      "text/plain": [
       "<sqlalchemy.engine.base.Connection at 0x7fb548b1cdf0>"
      ]
     },
     "execution_count": 17,
     "metadata": {},
     "output_type": "execute_result"
    }
   ],
   "source": [
    "engine.connect()"
   ]
  },
  {
   "cell_type": "code",
   "execution_count": 22,
   "id": "27b70991-e94f-4e78-a43c-da50c2e39c85",
   "metadata": {},
   "outputs": [
    {
     "name": "stdout",
     "output_type": "stream",
     "text": [
      "\n",
      "CREATE TABLE nyctaxi-trips (\n",
      "\tvendor_id TEXT, \n",
      "\tpickup_datetime TEXT, \n",
      "\tdropoff_datetime TEXT, \n",
      "\tpassenger_count BIGINT, \n",
      "\ttrip_distance FLOAT(53), \n",
      "\tpickup_longitude FLOAT(53), \n",
      "\tpickup_latitude FLOAT(53), \n",
      "\trate_code FLOAT(53), \n",
      "\tstore_and_fwd_flag FLOAT(53), \n",
      "\tdropoff_longitude FLOAT(53), \n",
      "\tdropoff_latitude FLOAT(53), \n",
      "\tpayment_type TEXT, \n",
      "\tfare_amount FLOAT(53), \n",
      "\tsurcharge FLOAT(53), \n",
      "\ttip_amount FLOAT(53), \n",
      "\ttolls_amount FLOAT(53), \n",
      "\ttotal_amount FLOAT(53)\n",
      ")\n",
      "\n",
      "\n"
     ]
    }
   ],
   "source": [
    "print(pd.io.sql.get_schema(df, name='nyctaxi-trips', con=engine))"
   ]
  },
  {
   "cell_type": "code",
   "execution_count": 18,
   "id": "bcc65af0-9184-4c0b-87ae-02b7d148ef1e",
   "metadata": {},
   "outputs": [],
   "source": [
    "df_csv_iter = pd.read_csv('../data/data-sample_data-nyctaxi-trips-2009.csv', iterator=True, chunksize=100000)"
   ]
  },
  {
   "cell_type": "code",
   "execution_count": 19,
   "id": "c0e157fd-31f6-4c05-8433-b630b0fe7d6e",
   "metadata": {},
   "outputs": [],
   "source": [
    "df_csv = next(df_csv_iter)"
   ]
  },
  {
   "cell_type": "code",
   "execution_count": 20,
   "id": "2b0b2faf-c0ba-4daa-8360-dd9c0a037b84",
   "metadata": {},
   "outputs": [
    {
     "data": {
      "text/plain": [
       "100000"
      ]
     },
     "execution_count": 20,
     "metadata": {},
     "output_type": "execute_result"
    }
   ],
   "source": [
    "len(df_csv)"
   ]
  },
  {
   "cell_type": "code",
   "execution_count": 23,
   "id": "edcfa327-80f7-4cec-996a-70fdb8400aff",
   "metadata": {},
   "outputs": [
    {
     "data": {
      "text/plain": [
       "0"
      ]
     },
     "execution_count": 23,
     "metadata": {},
     "output_type": "execute_result"
    }
   ],
   "source": [
    "df_csv.head(n=0).to_sql(name='nyctaxi-trips', con=engine, if_exists='replace')"
   ]
  },
  {
   "cell_type": "code",
   "execution_count": 24,
   "id": "c8e0480e-afdd-4442-9d0e-f56235af5dae",
   "metadata": {},
   "outputs": [
    {
     "name": "stdout",
     "output_type": "stream",
     "text": [
      "CPU times: user 2.77 s, sys: 7.83 ms, total: 2.77 s\n",
      "Wall time: 4.18 s\n"
     ]
    },
    {
     "data": {
      "text/plain": [
       "100000"
      ]
     },
     "execution_count": 24,
     "metadata": {},
     "output_type": "execute_result"
    }
   ],
   "source": [
    "%time df_csv.to_sql(name='nyctaxi-trips', con=engine, if_exists='append')"
   ]
  },
  {
   "cell_type": "code",
   "execution_count": 25,
   "id": "d7618c58-6868-40a7-8aae-3f7bec1f3f2c",
   "metadata": {},
   "outputs": [],
   "source": [
    "from time import time"
   ]
  },
  {
   "cell_type": "code",
   "execution_count": 26,
   "id": "ce6e2a40-5611-4675-bb2f-95dc2f00d7af",
   "metadata": {},
   "outputs": [
    {
     "name": "stdout",
     "output_type": "stream",
     "text": [
      "Another chunk inserted..., took 4.536 second\n",
      "Another chunk inserted..., took 4.470 second\n",
      "Another chunk inserted..., took 4.526 second\n",
      "Another chunk inserted..., took 4.451 second\n",
      "Another chunk inserted..., took 4.451 second\n",
      "Another chunk inserted..., took 4.431 second\n",
      "Another chunk inserted..., took 4.517 second\n",
      "Another chunk inserted..., took 4.387 second\n",
      "Another chunk inserted..., took 4.541 second\n"
     ]
    },
    {
     "ename": "StopIteration",
     "evalue": "",
     "output_type": "error",
     "traceback": [
      "\u001b[0;31m---------------------------------------------------------------------------\u001b[0m",
      "\u001b[0;31mStopIteration\u001b[0m                             Traceback (most recent call last)",
      "Cell \u001b[0;32mIn[26], line 4\u001b[0m\n\u001b[1;32m      1\u001b[0m \u001b[38;5;28;01mwhile\u001b[39;00m \u001b[38;5;28;01mTrue\u001b[39;00m:\n\u001b[1;32m      2\u001b[0m     t_start \u001b[38;5;241m=\u001b[39m time()\n\u001b[0;32m----> 4\u001b[0m     df_csv \u001b[38;5;241m=\u001b[39m \u001b[38;5;28;43mnext\u001b[39;49m\u001b[43m(\u001b[49m\u001b[43mdf_csv_iter\u001b[49m\u001b[43m)\u001b[49m\n\u001b[1;32m      6\u001b[0m     df_csv[\u001b[38;5;124m'\u001b[39m\u001b[38;5;124mpickup_datetime\u001b[39m\u001b[38;5;124m'\u001b[39m] \u001b[38;5;241m=\u001b[39m pd\u001b[38;5;241m.\u001b[39mto_datetime(df_csv[\u001b[38;5;124m'\u001b[39m\u001b[38;5;124mpickup_datetime\u001b[39m\u001b[38;5;124m'\u001b[39m], \u001b[38;5;28mformat\u001b[39m\u001b[38;5;241m=\u001b[39m\u001b[38;5;124m'\u001b[39m\u001b[38;5;124mmixed\u001b[39m\u001b[38;5;124m'\u001b[39m)\n\u001b[1;32m      7\u001b[0m     df_csv[\u001b[38;5;124m'\u001b[39m\u001b[38;5;124mdropoff_datetime\u001b[39m\u001b[38;5;124m'\u001b[39m] \u001b[38;5;241m=\u001b[39m pd\u001b[38;5;241m.\u001b[39mto_datetime(df_csv[\u001b[38;5;124m'\u001b[39m\u001b[38;5;124mdropoff_datetime\u001b[39m\u001b[38;5;124m'\u001b[39m], \u001b[38;5;28mformat\u001b[39m\u001b[38;5;241m=\u001b[39m\u001b[38;5;124m'\u001b[39m\u001b[38;5;124mmixed\u001b[39m\u001b[38;5;124m'\u001b[39m)\n",
      "File \u001b[0;32m~/anaconda3/envs/sprint/lib/python3.10/site-packages/pandas/io/parsers/readers.py:1668\u001b[0m, in \u001b[0;36mTextFileReader.__next__\u001b[0;34m(self)\u001b[0m\n\u001b[1;32m   1666\u001b[0m \u001b[38;5;28;01mdef\u001b[39;00m \u001b[38;5;21m__next__\u001b[39m(\u001b[38;5;28mself\u001b[39m) \u001b[38;5;241m-\u001b[39m\u001b[38;5;241m>\u001b[39m DataFrame:\n\u001b[1;32m   1667\u001b[0m     \u001b[38;5;28;01mtry\u001b[39;00m:\n\u001b[0;32m-> 1668\u001b[0m         \u001b[38;5;28;01mreturn\u001b[39;00m \u001b[38;5;28;43mself\u001b[39;49m\u001b[38;5;241;43m.\u001b[39;49m\u001b[43mget_chunk\u001b[49m\u001b[43m(\u001b[49m\u001b[43m)\u001b[49m\n\u001b[1;32m   1669\u001b[0m     \u001b[38;5;28;01mexcept\u001b[39;00m \u001b[38;5;167;01mStopIteration\u001b[39;00m:\n\u001b[1;32m   1670\u001b[0m         \u001b[38;5;28mself\u001b[39m\u001b[38;5;241m.\u001b[39mclose()\n",
      "File \u001b[0;32m~/anaconda3/envs/sprint/lib/python3.10/site-packages/pandas/io/parsers/readers.py:1777\u001b[0m, in \u001b[0;36mTextFileReader.get_chunk\u001b[0;34m(self, size)\u001b[0m\n\u001b[1;32m   1775\u001b[0m         \u001b[38;5;28;01mraise\u001b[39;00m \u001b[38;5;167;01mStopIteration\u001b[39;00m\n\u001b[1;32m   1776\u001b[0m     size \u001b[38;5;241m=\u001b[39m \u001b[38;5;28mmin\u001b[39m(size, \u001b[38;5;28mself\u001b[39m\u001b[38;5;241m.\u001b[39mnrows \u001b[38;5;241m-\u001b[39m \u001b[38;5;28mself\u001b[39m\u001b[38;5;241m.\u001b[39m_currow)\n\u001b[0;32m-> 1777\u001b[0m \u001b[38;5;28;01mreturn\u001b[39;00m \u001b[38;5;28;43mself\u001b[39;49m\u001b[38;5;241;43m.\u001b[39;49m\u001b[43mread\u001b[49m\u001b[43m(\u001b[49m\u001b[43mnrows\u001b[49m\u001b[38;5;241;43m=\u001b[39;49m\u001b[43msize\u001b[49m\u001b[43m)\u001b[49m\n",
      "File \u001b[0;32m~/anaconda3/envs/sprint/lib/python3.10/site-packages/pandas/io/parsers/readers.py:1748\u001b[0m, in \u001b[0;36mTextFileReader.read\u001b[0;34m(self, nrows)\u001b[0m\n\u001b[1;32m   1741\u001b[0m nrows \u001b[38;5;241m=\u001b[39m validate_integer(\u001b[38;5;124m\"\u001b[39m\u001b[38;5;124mnrows\u001b[39m\u001b[38;5;124m\"\u001b[39m, nrows)\n\u001b[1;32m   1742\u001b[0m \u001b[38;5;28;01mtry\u001b[39;00m:\n\u001b[1;32m   1743\u001b[0m     \u001b[38;5;66;03m# error: \"ParserBase\" has no attribute \"read\"\u001b[39;00m\n\u001b[1;32m   1744\u001b[0m     (\n\u001b[1;32m   1745\u001b[0m         index,\n\u001b[1;32m   1746\u001b[0m         columns,\n\u001b[1;32m   1747\u001b[0m         col_dict,\n\u001b[0;32m-> 1748\u001b[0m     ) \u001b[38;5;241m=\u001b[39m \u001b[38;5;28;43mself\u001b[39;49m\u001b[38;5;241;43m.\u001b[39;49m\u001b[43m_engine\u001b[49m\u001b[38;5;241;43m.\u001b[39;49m\u001b[43mread\u001b[49m\u001b[43m(\u001b[49m\u001b[43m  \u001b[49m\u001b[38;5;66;43;03m# type: ignore[attr-defined]\u001b[39;49;00m\n\u001b[1;32m   1749\u001b[0m \u001b[43m        \u001b[49m\u001b[43mnrows\u001b[49m\n\u001b[1;32m   1750\u001b[0m \u001b[43m    \u001b[49m\u001b[43m)\u001b[49m\n\u001b[1;32m   1751\u001b[0m \u001b[38;5;28;01mexcept\u001b[39;00m \u001b[38;5;167;01mException\u001b[39;00m:\n\u001b[1;32m   1752\u001b[0m     \u001b[38;5;28mself\u001b[39m\u001b[38;5;241m.\u001b[39mclose()\n",
      "File \u001b[0;32m~/anaconda3/envs/sprint/lib/python3.10/site-packages/pandas/io/parsers/c_parser_wrapper.py:234\u001b[0m, in \u001b[0;36mCParserWrapper.read\u001b[0;34m(self, nrows)\u001b[0m\n\u001b[1;32m    232\u001b[0m \u001b[38;5;28;01mtry\u001b[39;00m:\n\u001b[1;32m    233\u001b[0m     \u001b[38;5;28;01mif\u001b[39;00m \u001b[38;5;28mself\u001b[39m\u001b[38;5;241m.\u001b[39mlow_memory:\n\u001b[0;32m--> 234\u001b[0m         chunks \u001b[38;5;241m=\u001b[39m \u001b[38;5;28;43mself\u001b[39;49m\u001b[38;5;241;43m.\u001b[39;49m\u001b[43m_reader\u001b[49m\u001b[38;5;241;43m.\u001b[39;49m\u001b[43mread_low_memory\u001b[49m\u001b[43m(\u001b[49m\u001b[43mnrows\u001b[49m\u001b[43m)\u001b[49m\n\u001b[1;32m    235\u001b[0m         \u001b[38;5;66;03m# destructive to chunks\u001b[39;00m\n\u001b[1;32m    236\u001b[0m         data \u001b[38;5;241m=\u001b[39m _concatenate_chunks(chunks)\n",
      "File \u001b[0;32mparsers.pyx:868\u001b[0m, in \u001b[0;36mpandas._libs.parsers.TextReader.read_low_memory\u001b[0;34m()\u001b[0m\n",
      "\u001b[0;31mStopIteration\u001b[0m: "
     ]
    }
   ],
   "source": [
    "while True:\n",
    "    t_start = time()\n",
    "    \n",
    "    df_csv = next(df_csv_iter)\n",
    "    \n",
    "    df_csv['pickup_datetime'] = pd.to_datetime(df_csv['pickup_datetime'], format='mixed')\n",
    "    df_csv['dropoff_datetime'] = pd.to_datetime(df_csv['dropoff_datetime'], format='mixed')\n",
    "    \n",
    "    df_csv.to_sql(name='nyctaxi-trips', con=engine, if_exists='append')\n",
    "\n",
    "    t_end = time()\n",
    "\n",
    "    print(\"Another chunk inserted..., took %.3f second\" % (t_end - t_start))\n"
   ]
  }
 ],
 "metadata": {
  "kernelspec": {
   "display_name": "Python 3 (ipykernel)",
   "language": "python",
   "name": "python3"
  },
  "language_info": {
   "codemirror_mode": {
    "name": "ipython",
    "version": 3
   },
   "file_extension": ".py",
   "mimetype": "text/x-python",
   "name": "python",
   "nbconvert_exporter": "python",
   "pygments_lexer": "ipython3",
   "version": "3.10.13"
  }
 },
 "nbformat": 4,
 "nbformat_minor": 5
}
