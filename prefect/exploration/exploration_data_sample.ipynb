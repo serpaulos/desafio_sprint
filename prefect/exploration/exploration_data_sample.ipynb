{
 "cells": [
  {
   "cell_type": "code",
   "execution_count": null,
   "id": "07bbbe83-2c16-4ad0-9fbb-bf93f8822db1",
   "metadata": {},
   "outputs": [],
   "source": [
    "import pandas as pd\n",
    "import pymysql\n",
    "from sqlalchemy import create_engine\n",
    "from dotenv import load_dotenv # add this line"
   ]
  },
  {
   "cell_type": "code",
   "execution_count": null,
   "id": "8e492fc2-49d6-4cb8-9322-44bbe74c3952",
   "metadata": {},
   "outputs": [],
   "source": [
    "data = 'data-sample_data-nyctaxi-trips-2009-json_corrigido.json'"
   ]
  },
  {
   "cell_type": "code",
   "execution_count": null,
   "id": "9853bbce-8c06-4d27-b32c-a32ae2ac5164",
   "metadata": {},
   "outputs": [],
   "source": [
    "df = pd.read_json(data, lines=True)"
   ]
  },
  {
   "cell_type": "code",
   "execution_count": null,
   "id": "b41d85c2-266c-4f42-b6ec-dafc35ed9c72",
   "metadata": {},
   "outputs": [],
   "source": [
    "df.to_csv('data-sample_data-nyctaxi-trips-2009.csv', index=False)"
   ]
  },
  {
   "cell_type": "code",
   "execution_count": null,
   "id": "f462ae7c-0fa4-4b8b-a9f0-cfb406b116c3",
   "metadata": {},
   "outputs": [],
   "source": [
    "df_csv = pd.read_csv('data-sample_data-nyctaxi-trips-2009.csv')"
   ]
  },
  {
   "cell_type": "code",
   "execution_count": null,
   "id": "b7ca3ddc-f1cc-49ee-bded-4d8653915ab4",
   "metadata": {},
   "outputs": [],
   "source": [
    "df_csv.head()"
   ]
  },
  {
   "cell_type": "code",
   "execution_count": null,
   "id": "36a4ede1-d767-4fea-b2cf-1517cb47d9ac",
   "metadata": {},
   "outputs": [],
   "source": [
    "df_csv.dtypes"
   ]
  },
  {
   "cell_type": "code",
   "execution_count": null,
   "id": "ed82abce-71a9-4153-8899-cbdb0ef21560",
   "metadata": {},
   "outputs": [],
   "source": [
    "# converter datatype de object para datetime\n",
    "df_csv['pickup_datetime'] = pd.to_datetime(df_csv['pickup_datetime'], format='mixed').dt.tz_convert(None)\n",
    "df_csv['dropoff_datetime'] = pd.to_datetime(df_csv['dropoff_datetime'], format='mixed').dt.tz_convert(None)"
   ]
  },
  {
   "cell_type": "code",
   "execution_count": null,
   "id": "8f457cb2-e202-4729-9fa8-1d3bcbf8244b",
   "metadata": {},
   "outputs": [],
   "source": [
    "df_csv.dtypes"
   ]
  },
  {
   "cell_type": "code",
   "execution_count": null,
   "id": "80f3e416-7a92-4f2e-9e0e-9668d1f3fba0",
   "metadata": {},
   "outputs": [],
   "source": [
    "# formatar datetime\n",
    "df_csv['pickup_datetime'] = pd.to_datetime(df_csv['pickup_datetime'], format='Y%m%d %H:%M:%S')\n",
    "df_csv['dropoff_datetime'] = pd.to_datetime(df_csv['dropoff_datetime'], format='Y%m%d %H:%M:%S')"
   ]
  },
  {
   "cell_type": "code",
   "execution_count": null,
   "id": "b2bf30a2-47cf-4667-b3b1-5af3ec9d33b6",
   "metadata": {},
   "outputs": [],
   "source": [
    "df_csv.head(2)"
   ]
  },
  {
   "cell_type": "code",
   "execution_count": null,
   "id": "6bab78e7-11df-4a25-8e19-b0173c866fc0",
   "metadata": {
    "scrolled": true
   },
   "outputs": [],
   "source": [
    "df_csv.to_parquet(\"../data/data-sample_data-nyctaxi-trips-2009-json_corrigido.parquet\", compression='gzip')"
   ]
  },
  {
   "cell_type": "code",
   "execution_count": null,
   "id": "bc5b29b4-afdc-45da-914d-9b191105a57f",
   "metadata": {},
   "outputs": [],
   "source": [
    "load_dotenv() # add this line\n",
    "user = os.getenv('MYSQL_USER')\n",
    "password = os.getenv('MYSQL_PASSWORD')\n",
    "host = os.getenv('MYSQL_HOST')\n",
    "db = os.getenv('MYSQL_DATABASE')\n",
    "port = os.getenv('MYSQL_PORT')"
   ]
  },
  {
   "cell_type": "code",
   "execution_count": null,
   "id": "8bf8bd10-78b1-443c-9ddc-3d928143f2cc",
   "metadata": {},
   "outputs": [],
   "source": [
    "try:\n",
    "    conn = pymysql.connect(host = host,\n",
    "                           port = int(port),\n",
    "                           user = user,\n",
    "                           password = password,\n",
    "                           db = db)\n",
    "except e:\n",
    "    print (e)\n",
    "if conn:\n",
    "    print (\"connection successful\")\n",
    "else:\n",
    "        print (\"error\")"
   ]
  },
  {
   "cell_type": "code",
   "execution_count": null,
   "id": "27b70991-e94f-4e78-a43c-da50c2e39c85",
   "metadata": {},
   "outputs": [],
   "source": [
    "print(pd.io.sql.get_schema(df, name='nyctaxi-trips', con=conn))"
   ]
  },
  {
   "cell_type": "code",
   "execution_count": null,
   "id": "bcc65af0-9184-4c0b-87ae-02b7d148ef1e",
   "metadata": {},
   "outputs": [],
   "source": [
    "df_csv_iter = pd.read_csv('../data/data-sample_data-nyctaxi-trips-2009.csv', iterator=True, chunksize=100000)"
   ]
  },
  {
   "cell_type": "code",
   "execution_count": null,
   "id": "c0e157fd-31f6-4c05-8433-b630b0fe7d6e",
   "metadata": {},
   "outputs": [],
   "source": [
    "df_csv = next(df_csv_iter)"
   ]
  },
  {
   "cell_type": "code",
   "execution_count": null,
   "id": "2b0b2faf-c0ba-4daa-8360-dd9c0a037b84",
   "metadata": {},
   "outputs": [],
   "source": [
    "len(df_csv)"
   ]
  },
  {
   "cell_type": "code",
   "execution_count": null,
   "id": "edcfa327-80f7-4cec-996a-70fdb8400aff",
   "metadata": {},
   "outputs": [],
   "source": [
    "df_csv.head(n=0).to_sql(name='nyctaxi-trips', con=engine, if_exists='replace')"
   ]
  },
  {
   "cell_type": "code",
   "execution_count": null,
   "id": "c8e0480e-afdd-4442-9d0e-f56235af5dae",
   "metadata": {},
   "outputs": [],
   "source": [
    "%time df_csv.to_sql(name='nyctaxi-trips', con=engine, if_exists='append')"
   ]
  },
  {
   "cell_type": "code",
   "execution_count": null,
   "id": "d7618c58-6868-40a7-8aae-3f7bec1f3f2c",
   "metadata": {},
   "outputs": [],
   "source": [
    "from time import time"
   ]
  },
  {
   "cell_type": "code",
   "execution_count": null,
   "id": "ce6e2a40-5611-4675-bb2f-95dc2f00d7af",
   "metadata": {},
   "outputs": [],
   "source": [
    "while True:\n",
    "\n",
    "    try:\n",
    "        t_start = time()\n",
    "\n",
    "        df = next(df_iter)\n",
    "\n",
    "        df_csv['pickup_datetime'] = pd.to_datetime(df_csv['pickup_datetime'], format='mixed')\n",
    "        df_csv['dropoff_datetime'] = pd.to_datetime(df_csv['dropoff_datetime'], format='mixed')\n",
    "\n",
    "        df_csv.to_sql(name=table_name, con=engine, if_exists='append')\n",
    "\n",
    "        t_end = time()\n",
    "\n",
    "        print('inserted another chunk, took %.3f second' % (t_end - t_start))\n",
    "\n",
    "    except StopIteration:\n",
    "        print(\"Finished ingesting data into the postgres database\")\n",
    "        break\n"
   ]
  }
 ],
 "metadata": {
  "kernelspec": {
   "display_name": "Python 3 (ipykernel)",
   "language": "python",
   "name": "python3"
  },
  "language_info": {
   "codemirror_mode": {
    "name": "ipython",
    "version": 3
   },
   "file_extension": ".py",
   "mimetype": "text/x-python",
   "name": "python",
   "nbconvert_exporter": "python",
   "pygments_lexer": "ipython3",
   "version": "3.10.13"
  }
 },
 "nbformat": 4,
 "nbformat_minor": 5
}
