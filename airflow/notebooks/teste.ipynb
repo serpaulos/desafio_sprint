{
 "cells": [
  {
   "cell_type": "code",
   "execution_count": 1,
   "id": "15c47848-8730-427f-a106-a3b3fba93cb1",
   "metadata": {},
   "outputs": [],
   "source": [
    "file = \"air_data/data-sample_data-nyctaxi-trips-2009-json_corrigido.json\""
   ]
  },
  {
   "cell_type": "code",
   "execution_count": 2,
   "id": "3cfe0b8b-3ef1-4032-aa4a-7fdf07b709d1",
   "metadata": {},
   "outputs": [],
   "source": [
    "import pandas as pd"
   ]
  },
  {
   "cell_type": "code",
   "execution_count": 40,
   "id": "0c0abad2-deec-4ab0-9e2e-a08357da1bbc",
   "metadata": {},
   "outputs": [],
   "source": [
    "df = pd.read_json(file, lines=True)"
   ]
  },
  {
   "cell_type": "code",
   "execution_count": 10,
   "id": "026f6963-88ac-46e5-9677-265b73d002cb",
   "metadata": {},
   "outputs": [
    {
     "name": "stdout",
     "output_type": "stream",
     "text": [
      "<class 'pandas.core.frame.DataFrame'>\n",
      "RangeIndex: 1000000 entries, 0 to 999999\n",
      "Data columns (total 17 columns):\n",
      " #   Column              Non-Null Count    Dtype  \n",
      "---  ------              --------------    -----  \n",
      " 0   vendor_id           1000000 non-null  object \n",
      " 1   pickup_datetime     1000000 non-null  object \n",
      " 2   dropoff_datetime    1000000 non-null  object \n",
      " 3   passenger_count     1000000 non-null  int64  \n",
      " 4   trip_distance       1000000 non-null  float64\n",
      " 5   pickup_longitude    1000000 non-null  float64\n",
      " 6   pickup_latitude     1000000 non-null  float64\n",
      " 7   rate_code           0 non-null        float64\n",
      " 8   store_and_fwd_flag  62 non-null       float64\n",
      " 9   dropoff_longitude   1000000 non-null  float64\n",
      " 10  dropoff_latitude    1000000 non-null  float64\n",
      " 11  payment_type        1000000 non-null  object \n",
      " 12  fare_amount         1000000 non-null  float64\n",
      " 13  surcharge           1000000 non-null  float64\n",
      " 14  tip_amount          1000000 non-null  float64\n",
      " 15  tolls_amount        1000000 non-null  float64\n",
      " 16  total_amount        1000000 non-null  float64\n",
      "dtypes: float64(12), int64(1), object(4)\n",
      "memory usage: 129.7+ MB\n"
     ]
    }
   ],
   "source": [
    "df.info()"
   ]
  },
  {
   "cell_type": "code",
   "execution_count": 46,
   "id": "f7d226b6-81b8-4a18-ac9c-e5495069586d",
   "metadata": {},
   "outputs": [
    {
     "data": {
      "text/plain": [
       "0        2009-04-21 18:51:11.767205+00:00\n",
       "1        2009-01-13 07:40:07.639754+00:00\n",
       "2        2009-01-06 19:30:44.142187+00:00\n",
       "3        2009-09-24 08:28:09.004451+00:00\n",
       "4        2009-10-29 05:50:39.214629+00:00\n",
       "                       ...               \n",
       "999995   2009-04-24 20:26:49.177887+00:00\n",
       "999996   2009-10-15 23:50:58.953649+00:00\n",
       "999997   2009-10-17 23:32:59.567188+00:00\n",
       "999998   2009-04-29 16:24:48.679701+00:00\n",
       "999999   2009-02-27 21:56:18.386664+00:00\n",
       "Name: pickup_datetime, Length: 1000000, dtype: datetime64[ns, UTC]"
      ]
     },
     "execution_count": 46,
     "metadata": {},
     "output_type": "execute_result"
    }
   ],
   "source": [
    "pd.to_datetime(df[\"pickup_datetime\"], format='ISO8601', utc=True, yearfirst=True)"
   ]
  },
  {
   "cell_type": "code",
   "execution_count": 47,
   "id": "3596ed5b-b617-4e8e-b49b-ed951bfa70ce",
   "metadata": {},
   "outputs": [],
   "source": [
    "    df['pickup_datetime'] = pd.to_datetime(df['pickup_datetime'], format='mixed').dt.tz_convert(None)\n",
    "    df['dropoff_datetime'] = pd.to_datetime(df['dropoff_datetime'], format='mixed').dt.tz_convert(None)"
   ]
  },
  {
   "cell_type": "code",
   "execution_count": 51,
   "id": "390681ec-7533-4c44-aaeb-c77460ec6b02",
   "metadata": {},
   "outputs": [
    {
     "data": {
      "text/plain": [
       "0        2009-04-21 18:51:11.767205+00:00\n",
       "1        2009-01-13 07:40:07.639754+00:00\n",
       "2        2009-01-06 19:30:44.142187+00:00\n",
       "3        2009-09-24 08:28:09.004451+00:00\n",
       "4        2009-10-29 05:50:39.214629+00:00\n",
       "                       ...               \n",
       "999995   2009-04-24 20:26:49.177887+00:00\n",
       "999996   2009-10-15 23:50:58.953649+00:00\n",
       "999997   2009-10-17 23:32:59.567188+00:00\n",
       "999998   2009-04-29 16:24:48.679701+00:00\n",
       "999999   2009-02-27 21:56:18.386664+00:00\n",
       "Name: pickup_datetime, Length: 1000000, dtype: datetime64[ns, UTC]"
      ]
     },
     "execution_count": 51,
     "metadata": {},
     "output_type": "execute_result"
    }
   ],
   "source": [
    "pd.to_datetime(df[\"pickup_datetime\"], utc=True, format='%Y-%m-%dT%H:%M:%S.%f')\n",
    "#pd.to_datetime(df[\"pickup_datetime\"], format='mixed')\n"
   ]
  },
  {
   "cell_type": "code",
   "execution_count": 49,
   "id": "b5b580b5-cea4-42f1-93b7-c001ed8dbeea",
   "metadata": {},
   "outputs": [],
   "source": [
    "#display(df.iloc[498551])"
   ]
  },
  {
   "cell_type": "code",
   "execution_count": 45,
   "id": "d036703e-fef5-451c-85e1-19b09560632d",
   "metadata": {},
   "outputs": [
    {
     "data": {
      "text/plain": [
       "'2009-04-02 23:37:30.297216+00:00'"
      ]
     },
     "metadata": {},
     "output_type": "display_data"
    }
   ],
   "source": [
    "df.at[498551,'pickup_datetime'] = '2009-04-02 23:37:30.297216+00:00'\n",
    "display(df.at[498551,'pickup_datetime'])"
   ]
  },
  {
   "cell_type": "code",
   "execution_count": 29,
   "id": "b022cf4b-f4b0-4d12-b199-83a9b5cebb96",
   "metadata": {},
   "outputs": [
    {
     "data": {
      "text/plain": [
       "{'vendor_id': {0: 'CMT', 1: 'CMT', 2: 'VTS', 3: 'VTS', 4: 'VTS'},\n",
       " 'pickup_datetime': {0: '2009-04-21T18:51:11.767205+00:00',\n",
       "  1: '2009-01-13T07:40:07.639754+00:00',\n",
       "  2: '2009-01-06T19:30:44.142187+00:00',\n",
       "  3: '2009-09-24T08:28:09.004451+00:00',\n",
       "  4: '2009-10-29T05:50:39.214629+00:00'},\n",
       " 'dropoff_datetime': {0: '2009-04-21T18:57:09.433767+00:00',\n",
       "  1: '2009-01-13T07:50:36.386011+00:00',\n",
       "  2: '2009-01-06T19:43:09.908429+00:00',\n",
       "  3: '2009-09-24T08:41:56.739991+00:00',\n",
       "  4: '2009-10-29T05:57:22.880174+00:00'},\n",
       " 'passenger_count': {0: 2, 1: 1, 2: 5, 3: 1, 4: 1},\n",
       " 'trip_distance': {0: 0.8, 1: 5.4, 2: 1.67, 3: 4.13, 4: 2.03},\n",
       " 'pickup_longitude': {0: -74.004114,\n",
       "  1: -73.996506,\n",
       "  2: -73.95134,\n",
       "  3: -74.001117,\n",
       "  4: -73.9766},\n",
       " 'pickup_latitude': {0: 40.74295,\n",
       "  1: 40.747784,\n",
       "  2: 40.75207,\n",
       "  3: 40.729128,\n",
       "  4: 40.756873},\n",
       " 'rate_code': {0: nan, 1: nan, 2: nan, 3: nan, 4: nan},\n",
       " 'store_and_fwd_flag': {0: nan, 1: nan, 2: nan, 3: nan, 4: nan},\n",
       " 'dropoff_longitude': {0: -73.994712,\n",
       "  1: -73.940449,\n",
       "  2: -73.944535,\n",
       "  3: -73.958122,\n",
       "  4: -73.979757},\n",
       " 'dropoff_latitude': {0: 40.74795,\n",
       "  1: 40.792385,\n",
       "  2: 40.768108,\n",
       "  3: 40.721812,\n",
       "  4: 40.776075},\n",
       " 'payment_type': {0: 'Cash', 1: 'Cash', 2: 'CASH', 3: 'CASH', 4: 'CASH'},\n",
       " 'fare_amount': {0: 5.4, 1: 15.4, 2: 6.1, 3: 12.9, 4: 7.7},\n",
       " 'surcharge': {0: 0.0, 1: 0.0, 2: 1.0, 3: 0.5, 4: 0.5},\n",
       " 'tip_amount': {0: 0.0, 1: 0.0, 2: 0.0, 3: 0.0, 4: 0.0},\n",
       " 'tolls_amount': {0: 0.0, 1: 0.0, 2: 0.0, 3: 0.0, 4: 0.0},\n",
       " 'total_amount': {0: 5.4, 1: 15.4, 2: 7.1, 3: 13.4, 4: 8.2}}"
      ]
     },
     "execution_count": 29,
     "metadata": {},
     "output_type": "execute_result"
    }
   ],
   "source": [
    "df.head().to_dict()"
   ]
  },
  {
   "cell_type": "code",
   "execution_count": 48,
   "id": "cfa17248-d451-4710-b5e7-06bd75cb4696",
   "metadata": {},
   "outputs": [
    {
     "name": "stdout",
     "output_type": "stream",
     "text": [
      "2.1.4\n"
     ]
    }
   ],
   "source": [
    "print(pd.__version__)"
   ]
  },
  {
   "cell_type": "code",
   "execution_count": null,
   "id": "3fa861f4-c3e9-4356-bbec-7a0609070b9e",
   "metadata": {},
   "outputs": [],
   "source": []
  }
 ],
 "metadata": {
  "kernelspec": {
   "display_name": "Python 3 (ipykernel)",
   "language": "python",
   "name": "python3"
  },
  "language_info": {
   "codemirror_mode": {
    "name": "ipython",
    "version": 3
   },
   "file_extension": ".py",
   "mimetype": "text/x-python",
   "name": "python",
   "nbconvert_exporter": "python",
   "pygments_lexer": "ipython3",
   "version": "3.10.13"
  }
 },
 "nbformat": 4,
 "nbformat_minor": 5
}
